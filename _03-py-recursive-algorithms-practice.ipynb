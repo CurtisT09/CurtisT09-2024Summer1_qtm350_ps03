{
  "cells": [
    {
      "cell_type": "markdown",
      "metadata": {
        "id": "P21PaCxldlYL"
      },
      "source": [
        "\n",
        "# <center>Python - Recursive Algorithms - Practice <a class=\"tocSkip\"></center>\n",
        "# <center>QTM 350: Data Science Computing <a class=\"tocSkip\"></center>    \n",
        "# <center>Davi Moreira <a class=\"tocSkip\"></center>"
      ]
    },
    {
      "cell_type": "markdown",
      "metadata": {
        "id": "7zUgV3QedlYM"
      },
      "source": [
        "## Introduction <a class=\"tocSkip\">\n",
        "<hr>\n",
        "\n",
        "\n",
        "This topic material is based on [Professor Mike Gelbart Algorithms and Data Structures course](https://github.com/UBC-MDS/DSCI_512_alg-data-struct). It was adapted for our purposes."
      ]
    },
    {
      "cell_type": "code",
      "execution_count": 1,
      "metadata": {
        "id": "n9kuG75ndlYM"
      },
      "outputs": [],
      "source": [
        "import numpy as np\n",
        "import pandas as pd\n",
        "import matplotlib.pyplot as plt\n",
        "from collections import defaultdict, Counter"
      ]
    },
    {
      "cell_type": "markdown",
      "metadata": {
        "id": "AeUEYd0kdlYN"
      },
      "source": [
        "## Exercise: time complexity of recursive functions\n",
        "\n",
        "For each of the following recursive functions, determine the time complexity as a function of the input $n$ and briefly justify your answer. Assume $n$ is a positive integer."
      ]
    },
    {
      "cell_type": "markdown",
      "metadata": {
        "id": "1K9TZqK0dlYN"
      },
      "source": [
        "###\n"
      ]
    },
    {
      "cell_type": "code",
      "execution_count": 2,
      "metadata": {
        "id": "M09tKEMVdlYN"
      },
      "outputs": [],
      "source": [
        "def titled(n):\n",
        "    if n >= 0:\n",
        "        print('n: ', n)\n",
        "        return titled(n-1)\n",
        "    else:\n",
        "        return \"sandwich\""
      ]
    },
    {
      "cell_type": "code",
      "execution_count": 3,
      "metadata": {
        "id": "B1CX1AlAdlYN",
        "outputId": "2a2fe775-ebb0-4103-caa6-ddb82445c79f",
        "colab": {
          "base_uri": "https://localhost:8080/",
          "height": 321
        }
      },
      "outputs": [
        {
          "output_type": "stream",
          "name": "stdout",
          "text": [
            "n:  15\n",
            "n:  14\n",
            "n:  13\n",
            "n:  12\n",
            "n:  11\n",
            "n:  10\n",
            "n:  9\n",
            "n:  8\n",
            "n:  7\n",
            "n:  6\n",
            "n:  5\n",
            "n:  4\n",
            "n:  3\n",
            "n:  2\n",
            "n:  1\n",
            "n:  0\n"
          ]
        },
        {
          "output_type": "execute_result",
          "data": {
            "text/plain": [
              "'sandwich'"
            ],
            "application/vnd.google.colaboratory.intrinsic+json": {
              "type": "string"
            }
          },
          "metadata": {},
          "execution_count": 3
        }
      ],
      "source": [
        "titled(15)"
      ]
    },
    {
      "cell_type": "markdown",
      "metadata": {
        "toc-hr-collapsed": true,
        "id": "HekIXHqPdlYO"
      },
      "source": [
        "**Answer:** O(n) because it keeps calling itself until n is less than 0 so basically it calls itself n+1 times which simplifies to O(n) time complexity.\n",
        "\n"
      ]
    },
    {
      "cell_type": "markdown",
      "metadata": {
        "id": "Hejo5FcNdlYO"
      },
      "source": [
        "###\n"
      ]
    },
    {
      "cell_type": "code",
      "execution_count": 4,
      "metadata": {
        "id": "8LqNAVI-dlYO"
      },
      "outputs": [],
      "source": [
        "def untitled(n):\n",
        "    if n < 0:\n",
        "        return \"sandwich\"\n",
        "    else:\n",
        "        print('n: ', n)\n",
        "        return untitled(n-2)"
      ]
    },
    {
      "cell_type": "code",
      "execution_count": 5,
      "metadata": {
        "id": "_hOVzE50dlYO",
        "outputId": "f631114d-6638-42ad-aab0-7a16a4728e34",
        "colab": {
          "base_uri": "https://localhost:8080/",
          "height": 125
        }
      },
      "outputs": [
        {
          "output_type": "stream",
          "name": "stdout",
          "text": [
            "n:  8\n",
            "n:  6\n",
            "n:  4\n",
            "n:  2\n",
            "n:  0\n"
          ]
        },
        {
          "output_type": "execute_result",
          "data": {
            "text/plain": [
              "'sandwich'"
            ],
            "application/vnd.google.colaboratory.intrinsic+json": {
              "type": "string"
            }
          },
          "metadata": {},
          "execution_count": 5
        }
      ],
      "source": [
        "untitled(8)"
      ]
    },
    {
      "cell_type": "markdown",
      "metadata": {
        "toc-hr-collapsed": true,
        "id": "ilR9wWbwdlYO"
      },
      "source": [
        "**Answer:** O(n) time complexity as the fuction keeps subracting 2 from n and calling itself until n is less than 0, and this simplifies to O(n) as that number alone determines the time complexity when it changes.\n",
        "\n",
        "\n"
      ]
    },
    {
      "cell_type": "markdown",
      "metadata": {
        "id": "MvlU-piKdlYO"
      },
      "source": [
        "###"
      ]
    },
    {
      "cell_type": "code",
      "execution_count": 6,
      "metadata": {
        "id": "jVRK6bDldlYO"
      },
      "outputs": [],
      "source": [
        "def does_nothing(n):\n",
        "    print('n:', n)\n",
        "    if n == 0:\n",
        "        return\n",
        "    does_nothing(n-1)\n",
        "    does_nothing(n-1)"
      ]
    },
    {
      "cell_type": "code",
      "execution_count": 7,
      "metadata": {
        "id": "TQLjXvVQdlYO",
        "outputId": "6f0913a0-55b2-4617-ac2a-c1d1ab4f82c8",
        "colab": {
          "base_uri": "https://localhost:8080/"
        }
      },
      "outputs": [
        {
          "output_type": "stream",
          "name": "stdout",
          "text": [
            "n: 3\n",
            "n: 2\n",
            "n: 1\n",
            "n: 0\n",
            "n: 0\n",
            "n: 1\n",
            "n: 0\n",
            "n: 0\n",
            "n: 2\n",
            "n: 1\n",
            "n: 0\n",
            "n: 0\n",
            "n: 1\n",
            "n: 0\n",
            "n: 0\n"
          ]
        }
      ],
      "source": [
        "does_nothing(3)"
      ]
    },
    {
      "cell_type": "markdown",
      "metadata": {
        "toc-hr-collapsed": true,
        "id": "bNV2GYqTdlYO"
      },
      "source": [
        "**Answer:** O(2^n) time complexity because there are two recursive function calls within does_nothing() each with depth of n.\n",
        "\n"
      ]
    },
    {
      "cell_type": "markdown",
      "metadata": {
        "id": "9qqMUDHVdlYO"
      },
      "source": [
        "###"
      ]
    },
    {
      "cell_type": "code",
      "execution_count": 8,
      "metadata": {
        "id": "RUR6DYUFdlYO"
      },
      "outputs": [],
      "source": [
        "def does_nothing_more_slowly(n):\n",
        "    print(n)\n",
        "    if n == 0:\n",
        "        return\n",
        "    does_nothing_more_slowly(n-1)\n",
        "    does_nothing_more_slowly(n-1)\n",
        "    does_nothing_more_slowly(n-1)"
      ]
    },
    {
      "cell_type": "code",
      "execution_count": 9,
      "metadata": {
        "id": "zYIetF2DdlYO",
        "outputId": "28a45597-e244-4e4b-dce3-95b92b0da92e",
        "colab": {
          "base_uri": "https://localhost:8080/"
        }
      },
      "outputs": [
        {
          "output_type": "stream",
          "name": "stdout",
          "text": [
            "3\n",
            "2\n",
            "1\n",
            "0\n",
            "0\n",
            "0\n",
            "1\n",
            "0\n",
            "0\n",
            "0\n",
            "1\n",
            "0\n",
            "0\n",
            "0\n",
            "2\n",
            "1\n",
            "0\n",
            "0\n",
            "0\n",
            "1\n",
            "0\n",
            "0\n",
            "0\n",
            "1\n",
            "0\n",
            "0\n",
            "0\n",
            "2\n",
            "1\n",
            "0\n",
            "0\n",
            "0\n",
            "1\n",
            "0\n",
            "0\n",
            "0\n",
            "1\n",
            "0\n",
            "0\n",
            "0\n"
          ]
        }
      ],
      "source": [
        "does_nothing_more_slowly(3)"
      ]
    },
    {
      "cell_type": "markdown",
      "metadata": {
        "toc-hr-collapsed": true,
        "id": "MR_ASH02dlYO"
      },
      "source": [
        "**Answer:** O(3^n) because similar to the last question, the function recursivley calls itself three times, each with a depth of n."
      ]
    },
    {
      "cell_type": "markdown",
      "metadata": {
        "id": "lAWM40PrdlYO"
      },
      "source": [
        "###"
      ]
    },
    {
      "cell_type": "code",
      "execution_count": 10,
      "metadata": {
        "id": "x6QS0fuWdlYO"
      },
      "outputs": [],
      "source": [
        "def looprec(n):\n",
        "    print(\"Hello!\")\n",
        "    print('N: ', n)\n",
        "    for i in range(n):\n",
        "        looprec(n-1)"
      ]
    },
    {
      "cell_type": "code",
      "execution_count": 11,
      "metadata": {
        "id": "jvbrf7ugdlYP",
        "outputId": "a2d648ff-6281-4085-e707-9360a8581367",
        "colab": {
          "base_uri": "https://localhost:8080/"
        }
      },
      "outputs": [
        {
          "output_type": "stream",
          "name": "stdout",
          "text": [
            "Hello!\n",
            "N:  3\n",
            "Hello!\n",
            "N:  2\n",
            "Hello!\n",
            "N:  1\n",
            "Hello!\n",
            "N:  0\n",
            "Hello!\n",
            "N:  1\n",
            "Hello!\n",
            "N:  0\n",
            "Hello!\n",
            "N:  2\n",
            "Hello!\n",
            "N:  1\n",
            "Hello!\n",
            "N:  0\n",
            "Hello!\n",
            "N:  1\n",
            "Hello!\n",
            "N:  0\n",
            "Hello!\n",
            "N:  2\n",
            "Hello!\n",
            "N:  1\n",
            "Hello!\n",
            "N:  0\n",
            "Hello!\n",
            "N:  1\n",
            "Hello!\n",
            "N:  0\n"
          ]
        }
      ],
      "source": [
        "looprec(3)"
      ]
    },
    {
      "cell_type": "markdown",
      "metadata": {
        "toc-hr-collapsed": true,
        "id": "OGZIjpITdlYP"
      },
      "source": [
        "**Answer:** O(n!) because the loop itself happens n times, and each time it recursivley calls itself with n-1 which when we multiply after occuring again and again, leads to n factorial"
      ]
    },
    {
      "cell_type": "markdown",
      "metadata": {
        "id": "aQvBFBVedlYP"
      },
      "source": [
        "###\n",
        "\n",
        "In this exercise, determine the **space** complexity of `hello` in terms of $n$."
      ]
    },
    {
      "cell_type": "code",
      "execution_count": 12,
      "metadata": {
        "id": "jTHfaSMYdlYP"
      },
      "outputs": [],
      "source": [
        "def hello(n):\n",
        "    if n == 0:\n",
        "        return 1\n",
        "    return hello(n-1) + hello(n-1)"
      ]
    },
    {
      "cell_type": "code",
      "execution_count": 13,
      "metadata": {
        "id": "lm1f7eOEdlYP",
        "outputId": "889f84ec-f61a-4b7c-f776-d67dcc72bc8e",
        "colab": {
          "base_uri": "https://localhost:8080/"
        }
      },
      "outputs": [
        {
          "output_type": "execute_result",
          "data": {
            "text/plain": [
              "16"
            ]
          },
          "metadata": {},
          "execution_count": 13
        }
      ],
      "source": [
        "hello(4)"
      ]
    },
    {
      "cell_type": "markdown",
      "metadata": {
        "id": "O9ThhD73dlYP"
      },
      "source": [
        "**Answer:** O(n) is the space complexity because the initial and all recursive calls will keep going until n is equal to zero, and so the depth of the recursion is n."
      ]
    },
    {
      "cell_type": "markdown",
      "metadata": {
        "id": "ZZI2HEwmdlYP"
      },
      "source": [
        "## Exercise: recursive sum\n",
        "\n",
        "Write a recursive function `rec_sum` that takes in a list of numbers and sums up the numbers in the list. If the list is empty, it should return `0`. No loops, `sum`, or numpy operations allowed! And, as usual, a docstring is required."
      ]
    },
    {
      "cell_type": "markdown",
      "metadata": {
        "id": "hfWzI0FudlYP"
      },
      "source": [
        "**Answer:**"
      ]
    },
    {
      "cell_type": "code",
      "execution_count": 15,
      "metadata": {
        "id": "7KJEmNiQdlYP"
      },
      "outputs": [],
      "source": [
        "\n",
        "def rec_sum(nums):\n",
        "    \"\"\"\n",
        "    Recursively sums the numbers in a list.\n",
        "\n",
        "    Args:\n",
        "        nums: A list of numbers.\n",
        "\n",
        "    Returns:\n",
        "        The sum of the numbers in the list.\n",
        "    \"\"\"\n",
        "    if not nums:\n",
        "        return 0\n",
        "    return nums[0] + rec_sum(nums[1:])\n"
      ]
    },
    {
      "cell_type": "code",
      "execution_count": 16,
      "metadata": {
        "id": "WI8f5xsJdlYP"
      },
      "outputs": [],
      "source": [
        "# An empty list\n",
        "assert rec_sum([]) == 0\n",
        "\n",
        "# A list with one element\n",
        "assert rec_sum([32]) == 32\n",
        "\n",
        "# A list with all positive numbers\n",
        "assert rec_sum([1, 2, 3, 4, 5]) == 15\n",
        "\n",
        "# A list with negative numbers\n",
        "assert rec_sum([1, 2, 3, 4, -5]) == 5"
      ]
    },
    {
      "cell_type": "markdown",
      "metadata": {
        "id": "H3VbAiV8dlYP"
      },
      "source": [
        "## (optional) Exercise 3: recursive graphics\n",
        "\n",
        "In this exercise you will use recursion to draw the Sierpinski triangle. An image of one such triangle is shown below.\n",
        "\n",
        "<img width=\"600\" height=\"600\" src=\"https://github.com/CurtisT09/CurtisT09-2024Summer1_qtm350_ps03/blob/main/img/sierpinski_6_smaller.png?raw=1\">\n",
        "\n",
        "To help you do this, we are providing some code in the cell below. The `draw_triangle` function draws a triangle for you. When you are done calling `draw_triangle` as many times as you wish, call `show_triangles` once to render the image nicely. You do not need to understand how the code below works. You only need to understand how to use it. In other words, read the docstrings, but you don't need to read the code inside the functions."
      ]
    },
    {
      "cell_type": "code",
      "execution_count": null,
      "metadata": {
        "id": "VjtKZSFfdlYP"
      },
      "outputs": [],
      "source": [
        "def draw_triangle(x, y, side):\n",
        "    \"\"\"\n",
        "    Draw an equilateral triangle at (x,y) with side length `side`.\n",
        "\n",
        "    Parameters:\n",
        "    -----------\n",
        "    x : float\n",
        "        the x-coordinate of the *midpoint* of the triangle base\n",
        "    y : float\n",
        "        the y-coordinate of the *base* of the triangle\n",
        "    side : float\n",
        "        the length of each side of the triangle\n",
        "    \"\"\"\n",
        "    height = np.sqrt(3)*side/2\n",
        "    plt.plot([x-side/2.0, x+side/2.0, x, x-side/2.0], [y, y, y+height, y], 'k')\n",
        "\n",
        "\n",
        "def show_triangles(save=False):\n",
        "    \"\"\"\n",
        "    Make the Sierpinski triangle image look pretty.\n",
        "\n",
        "    Parameters:\n",
        "    -----------\n",
        "    save : bool, optional\n",
        "        Whether or not to save the image to a file (default: False).\n",
        "    \"\"\"\n",
        "    plt.gcf().set_size_inches(10, 8.6)\n",
        "    plt.axis('scaled')\n",
        "    plt.axis('off')\n",
        "    plt.tick_params(labelbottom=False, labelleft=False)\n",
        "    if save:\n",
        "        plt.tight_layout()\n",
        "        plt.savefig('sierpinski.png')\n",
        "    plt.show()\n",
        "\n",
        "draw_triangle(0, 0, 1)  # example: a single triangle (depth=0)\n",
        "show_triangles()        # show the triangle"
      ]
    },
    {
      "cell_type": "markdown",
      "metadata": {
        "id": "mjOhrnNZdlYP"
      },
      "source": [
        "Another example is given below: a Sierpinski triangle with depth 1, drawn without using recursion but just by calling `draw_triangles` 3 times. The point of this is that we provide you with (most of) the geometry, so you can focus on recursion and be less likely to get stuck on the geometry aspects."
      ]
    },
    {
      "cell_type": "code",
      "execution_count": null,
      "metadata": {
        "id": "4Tk4NkxfdlYP"
      },
      "outputs": [],
      "source": [
        "draw_triangle(-0.25, 0, 0.5)\n",
        "draw_triangle(+0.25, 0, 0.5)\n",
        "draw_triangle(0, (0.5*(np.sqrt(3)/2)), 0.5)\n",
        "show_triangles()"
      ]
    },
    {
      "cell_type": "markdown",
      "metadata": {
        "id": "es53PYV2dlYP"
      },
      "source": [
        "Your tasks are as follows:\n",
        "\n",
        "1. Write a recursive function `sierpinski` that takes four arguments: the coordinates `x` and `y`, the side length of the outermost triangle, `size`, and the depth `n`. Then, use your function to reproduce the figure above of the Sierpinski triangle with depth 6. Note: your code should only call `show_triangles` once, outside the recursive function (**not** within the recursive function)\n",
        "2. Spend a few minutes contemplating how you would implement this without recursion. Once you have reached a sufficiently hopeless state of mind, record your thoughts here as part of your submission.\n",
        "3. What is the big-O running time of your code, as a function of $n$?\n",
        "\n",
        "Note: the drawing could also be achieved by drawing one big right-side-up triangle followed up upside-down triangles inside, but here we're doing it by drawing all right-side-up triangles."
      ]
    },
    {
      "cell_type": "markdown",
      "metadata": {
        "id": "UNgnD1MWdlYP"
      },
      "source": [
        "**Answer:**"
      ]
    },
    {
      "cell_type": "code",
      "execution_count": null,
      "metadata": {
        "id": "FysQficUdlYP"
      },
      "outputs": [],
      "source": []
    },
    {
      "cell_type": "code",
      "execution_count": null,
      "metadata": {
        "id": "LGQj2Qb2dlYS"
      },
      "outputs": [],
      "source": [
        "!jupyter nbconvert _03-py-recursive-algorithms-practice.ipynb --to html --template classic --output 03-py-recursive-algorithms-practice.html"
      ]
    },
    {
      "cell_type": "markdown",
      "metadata": {
        "id": "el65k6HudlYT"
      },
      "source": [
        "# <center>Have fun!<a class=\"tocSkip\"></center>"
      ]
    }
  ],
  "metadata": {
    "anaconda-cloud": {},
    "kernelspec": {
      "display_name": "Python 3 (ipykernel)",
      "language": "python",
      "name": "python3"
    },
    "language_info": {
      "codemirror_mode": {
        "name": "ipython",
        "version": 3
      },
      "file_extension": ".py",
      "mimetype": "text/x-python",
      "name": "python",
      "nbconvert_exporter": "python",
      "pygments_lexer": "ipython3",
      "version": "3.11.5"
    },
    "toc": {
      "base_numbering": 1,
      "nav_menu": {},
      "number_sections": true,
      "sideBar": false,
      "skip_h1_title": false,
      "title_cell": "Table of Contents",
      "title_sidebar": "Contents",
      "toc_cell": false,
      "toc_position": {},
      "toc_section_display": true,
      "toc_window_display": false
    },
    "varInspector": {
      "cols": {
        "lenName": 16,
        "lenType": 16,
        "lenVar": 40
      },
      "kernels_config": {
        "python": {
          "delete_cmd_postfix": "",
          "delete_cmd_prefix": "del ",
          "library": "var_list.py",
          "varRefreshCmd": "print(var_dic_list())"
        },
        "r": {
          "delete_cmd_postfix": ") ",
          "delete_cmd_prefix": "rm(",
          "library": "var_list.r",
          "varRefreshCmd": "cat(var_dic_list()) "
        }
      },
      "types_to_exclude": [
        "module",
        "function",
        "builtin_function_or_method",
        "instance",
        "_Feature"
      ],
      "window_display": false
    },
    "colab": {
      "provenance": []
    }
  },
  "nbformat": 4,
  "nbformat_minor": 0
}