{
 "cells": [
  {
   "cell_type": "markdown",
   "metadata": {},
   "source": [
    "\n",
    "# <center>Python - Recursive Data Structures - Practice <a class=\"tocSkip\"></center>\n",
    "# <center>QTM 350: Data Science Computing <a class=\"tocSkip\"></center>    \n",
    "# <center>Davi Moreira <a class=\"tocSkip\"></center>"
   ]
  },
  {
   "cell_type": "markdown",
   "metadata": {},
   "source": [
    "## Introduction <a class=\"tocSkip\">\n",
    "<hr>\n",
    "\n",
    "\n",
    "This topic material is based on [Professor Mike Gelbart Algorithms and Data Structures course](https://github.com/UBC-MDS/DSCI_512_alg-data-struct). It was adapted for our purposes."
   ]
  },
  {
   "cell_type": "code",
   "execution_count": 60,
   "metadata": {},
   "outputs": [],
   "source": [
    "import numpy as np\n",
    "import pandas as pd\n",
    "import matplotlib.pyplot as plt\n",
    "from collections import defaultdict, Counter"
   ]
  },
  {
   "cell_type": "markdown",
   "metadata": {},
   "source": [
    "## Exercise: tricky recursive code\n",
    "\n",
    "Explain what the following code does, and how it works:"
   ]
  },
  {
   "cell_type": "code",
   "execution_count": 61,
   "metadata": {},
   "outputs": [],
   "source": [
    "def f(letters, n):\n",
    "    \"\"\"\n",
    "    Does something mysterious.\n",
    "\n",
    "    Parameters\n",
    "    ----------\n",
    "    letters : str \n",
    "        ?????\n",
    "    n : int \n",
    "        ?????\n",
    "\n",
    "    Returns\n",
    "    -------\n",
    "    ??? \n",
    "        ?????   \n",
    "\n",
    "    \"\"\"\n",
    "\n",
    "    if n == 0:\n",
    "        return [\"\"]\n",
    "\n",
    "    return [letter + l for letter in letters for l in f(letters, n-1)]"
   ]
  },
  {
   "cell_type": "code",
   "execution_count": 62,
   "metadata": {},
   "outputs": [
    {
     "data": {
      "text/plain": [
       "['Q', 'T', 'M', '!']"
      ]
     },
     "execution_count": 62,
     "metadata": {},
     "output_type": "execute_result"
    }
   ],
   "source": [
    "f(\"QTM!\", 1)"
   ]
  },
  {
   "cell_type": "markdown",
   "metadata": {},
   "source": [
    "**Answer:**"
   ]
  },
  {
   "cell_type": "markdown",
   "metadata": {},
   "source": [
    "## Explanation of the Recursive Function\n",
    "\n",
    "The given function `f` uses recursion to generate combinations of characters from a given string, where the combinations have a specified length  `n`. \n",
    "\n",
    "### Parameters\n",
    "- **letters**: A string consisting of distinct characters from which combinations are generated.\n",
    "- **n**: An integer that defines the length of each combination to be formed.\n",
    "\n",
    "### Return Value\n",
    "The function returns a list of strings, where each string represents one of the possible combinations of the characters from `letters`, having the specified length `n`.\n",
    "\n",
    "### How the Function Operates\n",
    "\n",
    "#### Base Case\n",
    "- When `n` is 0, the function returns a list containing an empty string `[\"\"]`. This acts as the termination condition for the recursion and serves as the foundation upon which combinations are built.\n",
    "\n",
    "#### Recursive Case\n",
    "- If `n` is greater than 0, the function constructs combinations by:\n",
    "  1. Iterating over each character in `letters`.\n",
    "  2. Recursively calling itself with `n - 1`, to generate all combinations of length `n - 1`.\n",
    "  3. Prepending the current character to each combination obtained from the recursive call and collecting these new combinations in a list.\n",
    "\n",
    "This process utilizes list comprehension to iterate over each character and combine it with the results of the recursive calls, effectively building up the combinations until they reach the desired length.\n",
    "\n",
    "### Example Walkthrough\n",
    "\n",
    "Suppose `letters = \"ab\"` and `n = 2`.\n",
    "\n",
    "- When `f(\"ab\", 2)` is called:\n",
    "  - For `letter = 'a'`, it needs combinations from `f(\"ab\", 1)`.\n",
    "    - `f(\"ab\", 1)` returns `['a', 'b']`.\n",
    "    - It constructs `['a' + 'a', 'a' + 'b']` resulting in `['aa', 'ab']`.\n",
    "  - For `letter = 'b'`, it repeats with `f(\"ab\", 1)`.\n",
    "    - It constructs `['b' + 'a', 'b' + 'b']` resulting in `['ba', 'bb']`.\n",
    "  - These combinations are then combined to form `['aa', 'ab', 'ba', 'bb']`.\n",
    "\n",
    "Each level of recursion builds upon the results from the previous level, expanding each combination until the full length `n` is achieved.\n"
   ]
  },
  {
   "cell_type": "markdown",
   "metadata": {},
   "source": [
    "## Exercise: Set implementation with BSTs\n",
    "\n",
    "In this exercise, you will implement a set data structure based on a binary search tree. You will write the tree as a Python class. We are providing some starter code for you below. "
   ]
  },
  {
   "cell_type": "markdown",
   "metadata": {},
   "source": [
    "###\n",
    "\n",
    "Implement a recursive function `insert` that takes a new element and inserts it into the tree. Your function should work by recursively calling `insert` on the left or right subtree depending on whether the new value is less than or greater than the tree's value, respectively. If the element is already in the tree, then the call to `insert` should do nothing. \n",
    "\n",
    "Hint: When inserting something into the tree, you should be creating a new `TreeSet` object with `TreeSet()`, then inserting the value into this newly created `TreeSet`, and then making sure this new `TreeSet` is stored in your current `TreeSet` as either `self.left` or `self.right`."
   ]
  },
  {
   "cell_type": "code",
   "execution_count": 63,
   "metadata": {},
   "outputs": [],
   "source": [
    "class TreeSet:\n",
    "    \"\"\"\n",
    "    A set implementation based on a binary tree.\n",
    "    \"\"\"\n",
    "\n",
    "    def __init__(self):\n",
    "        self.value = None\n",
    "        self.left = None\n",
    "        self.right = None\n",
    "\n",
    "    \n",
    "    \n",
    "    def contains(self, value):\n",
    "        \"\"\"\n",
    "        Check to see if the binary tree has a certain value \n",
    "\n",
    "        Parameters\n",
    "        ----------\n",
    "        value : object\n",
    "            the value to search for within the tree\n",
    "\n",
    "        Returns\n",
    "        -------\n",
    "        bool \n",
    "            if contained in the tree returns True, otherwise False  \n",
    "\n",
    "        Example\n",
    "        --------\n",
    "        >>> my_set = TreeSet() \n",
    "        >>> my_set.insert(\"Attempt\") \n",
    "        >>> my_set.contains(\"Failure\")\n",
    "        False\n",
    "        \"\"\"\n",
    "        if value == self.value:\n",
    "            return True\n",
    "\n",
    "        if value < self.value:\n",
    "            if self.left is None:\n",
    "                return False\n",
    "            else:\n",
    "                return self.left.contains(value)\n",
    "        else:\n",
    "            if self.right is None:\n",
    "                return False\n",
    "            else:\n",
    "                return self.right.contains(value)\n",
    "\n",
    "    def __str__(self, s=\"\"):\n",
    "        \"\"\"\n",
    "        A crude way to print the tree. A better way would be to print the tree by depth. \n",
    "\n",
    "        Note: __str__ is a special method, like __init__, that returns a string representation of an object.\n",
    "\n",
    "        Parameters\n",
    "        ----------\n",
    "        s : str\n",
    "           the starting string value. Default is empty string\n",
    "\n",
    "        Returns\n",
    "        -------\n",
    "        str \n",
    "            aggregated items in the set\n",
    "\n",
    "        Example\n",
    "        --------\n",
    "        >>> my_set = TreeSet() \n",
    "        >>> my_set.insert(\"Try\")\n",
    "        >>> my_set.insert(\"your\")\n",
    "        >>> my_set.insert(\"best\")\n",
    "        >>> print(my_set)\n",
    "        Try, your, best,\n",
    "        \"\"\"\n",
    "\n",
    "        if self.value is None:\n",
    "            return \"(An empty tree)\"\n",
    "\n",
    "        if self.left is not None:\n",
    "            s += self.left.__str__()\n",
    "\n",
    "        s += str(self.value) + \", \"\n",
    "\n",
    "        if self.right is not None:\n",
    "            s += self.right.__str__()\n",
    "\n",
    "        return s"
   ]
  },
  {
   "cell_type": "markdown",
   "metadata": {},
   "source": [
    "**Answer:**"
   ]
  },
  {
   "cell_type": "code",
   "execution_count": 64,
   "metadata": {},
   "outputs": [
    {
     "name": "stdout",
     "output_type": "stream",
     "text": [
      "17, apple, data science, hello, jerry, today, \n",
      "3, 5, 10, \n"
     ]
    }
   ],
   "source": [
    "class TreeSet:\n",
    "    \"\"\"\n",
    "    A set implementation based on a binary tree.\n",
    "    \"\"\"\n",
    "    \n",
    "    def __init__(self):\n",
    "        self.value = None\n",
    "        self.left = None\n",
    "        self.right = None\n",
    "\n",
    "    def insert(self, value):\n",
    "        \"\"\"\n",
    "        Inserts a value into the tree.\n",
    "\n",
    "        Parameters\n",
    "        ----------\n",
    "        value : object\n",
    "            The value to insert into the tree.\n",
    "\n",
    "        Returns\n",
    "        -------\n",
    "        None\n",
    "        \"\"\"\n",
    "        if self.value is None:\n",
    "            self.value = value\n",
    "            return\n",
    "        \n",
    "        if self.value == value:\n",
    "            return  # Value already exists in the tree, do nothing.\n",
    "        \n",
    "        if value < self.value:\n",
    "            if self.left is None:\n",
    "                self.left = TreeSet()  # Create a new subtree if necessary.\n",
    "            self.left.insert(value)  # Recursively insert into the left subtree.\n",
    "        else:\n",
    "            if self.right is None:\n",
    "                self.right = TreeSet()  # Create a new subtree if necessary.\n",
    "            self.right.insert(value)  # Recursively insert into the right subtree.\n",
    "\n",
    "    def contains(self, value):\n",
    "        \"\"\"\n",
    "        Check to see if the binary tree has a certain value.\n",
    "\n",
    "        Parameters\n",
    "        ----------\n",
    "        value : object\n",
    "            The value to search for within the tree.\n",
    "\n",
    "        Returns\n",
    "        -------\n",
    "        bool\n",
    "            if contained in the tree returns True, otherwise False.\n",
    "        \"\"\"\n",
    "        if value == self.value:\n",
    "            return True\n",
    "        if value < self.value:\n",
    "            if self.left is None:\n",
    "                return False\n",
    "            return self.left.contains(value)\n",
    "        else:\n",
    "            if self.right is None:\n",
    "                return False\n",
    "            return self.right.contains(value)\n",
    "    \n",
    "    def __str__(self, s=\"\"):\n",
    "        \"\"\"\n",
    "        A crude way to print the tree. A better way would be to print the tree by depth.\n",
    "\n",
    "        Parameters\n",
    "        ----------\n",
    "        s : str\n",
    "            The starting string value. Default is empty string.\n",
    "\n",
    "        Returns\n",
    "        -------\n",
    "        str\n",
    "            Aggregated items in the set.\n",
    "        \"\"\"\n",
    "        if self.value is None:\n",
    "            return \"(An empty tree)\"\n",
    "        \n",
    "        if self.left is not None:\n",
    "            s += self.left.__str__()\n",
    "        \n",
    "        s += str(self.value) + \", \"\n",
    "        \n",
    "        if self.right is not None:\n",
    "            s += self.right.__str__()\n",
    "        \n",
    "        return s\n",
    "\n",
    "# Example usage:\n",
    "my_set = TreeSet()\n",
    "my_set.insert(\"today\")\n",
    "my_set.insert(\"hello\")\n",
    "my_set.insert(\"data science\")\n",
    "my_set.insert(\"jerry\")\n",
    "my_set.insert(\"apple\")\n",
    "my_set.insert(\"17\")\n",
    "my_set.insert(\"hello\")\n",
    "print(my_set)\n",
    "\n",
    "assert my_set.contains(\"data science\")\n",
    "assert my_set.contains(\"apple\")\n",
    "assert not my_set.contains(\"18\")\n",
    "assert not my_set.contains(\"blah\")\n",
    "\n",
    "my_set2 = TreeSet()\n",
    "my_set2.insert(3)\n",
    "my_set2.insert(5)\n",
    "my_set2.insert(10)\n",
    "print(my_set2)\n"
   ]
  },
  {
   "cell_type": "markdown",
   "metadata": {},
   "source": [
    "###\n",
    "\n",
    "In this topic, we empirically timed the searching operation using four approaches:\n",
    "\n",
    "1. Linear search on an unsorted list\n",
    "2. Binary search on an sorted list\n",
    "3. Python's `in` operator on an unsorted list\n",
    "4. `in` with Python's built-in `set`\n",
    "\n",
    "Similar code to that from lecture, for just Python's `set`, is reproduced below for your convenience:"
   ]
  },
  {
   "cell_type": "code",
   "execution_count": 65,
   "metadata": {},
   "outputs": [
    {
     "name": "stdout",
     "output_type": "stream",
     "text": [
      "List size:  100\n",
      "List size:  1000\n",
      "List size:  10000\n",
      "List size:  100000\n",
      "List size:  1000000\n"
     ]
    }
   ],
   "source": [
    "list_sizes = [100, 1000, 10_000, 100_000, 1_000_000]\n",
    "\n",
    "results = defaultdict(list)\n",
    "results[\"size\"] = list_sizes\n",
    "\n",
    "key = -1\n",
    "x_all = np.random.randint(1e8, size=max(list_sizes))\n",
    "\n",
    "for list_size in list_sizes:\n",
    "    print('List size: ', list_size)\n",
    "    x = x_all[:list_size]\n",
    "    \n",
    "    x_set = set(x)\n",
    "    time = %timeit -q -o -r 1 (key in x_set)\n",
    "    results[\"Python set in\"].append(time.average)"
   ]
  },
  {
   "cell_type": "code",
   "execution_count": 66,
   "metadata": {},
   "outputs": [
    {
     "data": {
      "text/html": [
       "<div>\n",
       "<style scoped>\n",
       "    .dataframe tbody tr th:only-of-type {\n",
       "        vertical-align: middle;\n",
       "    }\n",
       "\n",
       "    .dataframe tbody tr th {\n",
       "        vertical-align: top;\n",
       "    }\n",
       "\n",
       "    .dataframe thead th {\n",
       "        text-align: right;\n",
       "    }\n",
       "</style>\n",
       "<table border=\"1\" class=\"dataframe\">\n",
       "  <thead>\n",
       "    <tr style=\"text-align: right;\">\n",
       "      <th></th>\n",
       "      <th>size</th>\n",
       "      <th>Python set in</th>\n",
       "    </tr>\n",
       "  </thead>\n",
       "  <tbody>\n",
       "    <tr>\n",
       "      <th>0</th>\n",
       "      <td>100</td>\n",
       "      <td>3.539764e-08</td>\n",
       "    </tr>\n",
       "    <tr>\n",
       "      <th>1</th>\n",
       "      <td>1000</td>\n",
       "      <td>2.954366e-08</td>\n",
       "    </tr>\n",
       "    <tr>\n",
       "      <th>2</th>\n",
       "      <td>10000</td>\n",
       "      <td>3.935053e-08</td>\n",
       "    </tr>\n",
       "    <tr>\n",
       "      <th>3</th>\n",
       "      <td>100000</td>\n",
       "      <td>3.369168e-08</td>\n",
       "    </tr>\n",
       "    <tr>\n",
       "      <th>4</th>\n",
       "      <td>1000000</td>\n",
       "      <td>4.046036e-08</td>\n",
       "    </tr>\n",
       "  </tbody>\n",
       "</table>\n",
       "</div>"
      ],
      "text/plain": [
       "      size  Python set in\n",
       "0      100   3.539764e-08\n",
       "1     1000   2.954366e-08\n",
       "2    10000   3.935053e-08\n",
       "3   100000   3.369168e-08\n",
       "4  1000000   4.046036e-08"
      ]
     },
     "execution_count": 66,
     "metadata": {},
     "output_type": "execute_result"
    }
   ],
   "source": [
    "df = pd.DataFrame(results)\n",
    "df"
   ]
  },
  {
   "cell_type": "markdown",
   "metadata": {},
   "source": [
    "Empirically measure the speed of `contains` with your `TreeSet` implementation, and then add them to the DataFrame for printing. Print out the DataFrame.\n",
    "\n",
    "(Note: for reasons of speed, we only go up to $n=10^6$ here. Populating the `TreeSet` objects with $10^7$ items would take a long time."
   ]
  },
  {
   "cell_type": "markdown",
   "metadata": {},
   "source": [
    "**Answer:**"
   ]
  },
  {
   "cell_type": "code",
   "execution_count": 67,
   "metadata": {},
   "outputs": [
    {
     "name": "stdout",
     "output_type": "stream",
     "text": [
      "List size:  100\n",
      "List size:  1000\n",
      "List size:  10000\n",
      "List size:  100000\n",
      "List size:  1000000\n",
      "      size  Python set in  TreeSet contains\n",
      "0      100       0.000003          0.000007\n",
      "1     1000       0.000002          0.000006\n",
      "2    10000       0.000004          0.000008\n",
      "3   100000       0.000002          0.000006\n",
      "4  1000000       0.000002          0.000024\n"
     ]
    }
   ],
   "source": [
    "from collections import defaultdict\n",
    "import numpy as np\n",
    "import pandas as pd\n",
    "import timeit\n",
    "\n",
    "# Assuming the TreeSet class implementation with the insert and contains methods is defined as given previously\n",
    "\n",
    "# Define the list sizes to test\n",
    "list_sizes = [100, 1000, 10_000, 100_000, 1_000_000]\n",
    "\n",
    "# Initialize results dictionary\n",
    "results = defaultdict(list)\n",
    "results[\"size\"] = list_sizes\n",
    "\n",
    "# Key to search for (assuming it won't be in the list)\n",
    "key = -1\n",
    "\n",
    "# Generate a large array of random integers\n",
    "x_all = np.random.randint(1e8, size=max(list_sizes))\n",
    "\n",
    "# Iterate over each list size\n",
    "for list_size in list_sizes:\n",
    "    print('List size: ', list_size)\n",
    "    x = x_all[:list_size]\n",
    "\n",
    "    # Measure time for Python built-in set\n",
    "    x_set = set(x)\n",
    "    set_time = timeit.timeit(lambda: key in x_set, number=1)\n",
    "    results[\"Python set in\"].append(set_time)\n",
    "\n",
    "    # Populate TreeSet and measure the contains method\n",
    "    x_tree_set = TreeSet()\n",
    "    for num in x:\n",
    "        x_tree_set.insert(num)\n",
    "    \n",
    "    tree_set_time = timeit.timeit(lambda: x_tree_set.contains(key), number=1)\n",
    "    results[\"TreeSet contains\"].append(tree_set_time)\n",
    "\n",
    "# Convert results to DataFrame and print\n",
    "df = pd.DataFrame(results)\n",
    "print(df)\n"
   ]
  },
  {
   "cell_type": "markdown",
   "metadata": {},
   "source": [
    "###\n",
    "\n",
    "Discuss your results from the previous part. How do Python's `set` and your `TreeSet` compare? Specifically:\n",
    "\n",
    "- Which method is faster?\n",
    "- What is the theoretical time complexity of `in` with a `set`, and `contains` with a `TreeSet`?\n",
    "- Are the empirical results consistent with the theoretical time complexities?\n",
    "- Are the results what you expected, overall?"
   ]
  },
  {
   "cell_type": "markdown",
   "metadata": {},
   "source": [
    "**Answer:**"
   ]
  },
  {
   "cell_type": "markdown",
   "metadata": {},
   "source": [
    "## Discussion of Results\n",
    "\n",
    "### Speed Comparison:\n",
    "- For each list size tested (100, 1,000, 10,000, 100,000, 1,000,000), Python’s built-in `set` consistently performed faster than the `TreeSet` implementation.\n",
    "- The execution times for Python’s `set` were on the order of *10^-7* seconds, while `TreeSet` took longer, especially as the list size increased.\n",
    "\n",
    "### Theoretical Time Complexity:\n",
    "- **Python’s `set`**: The `in` operation for Python’s built-in `set` (implemented using a hash table) has an average-case time complexity of *O(1)*.\n",
    "- **`TreeSet`**: The `contains` method, if the tree is balanced, has an average-case time complexity of *O(log n)*. However, in the worst case, if the tree is unbalanced, this could degrade to *O(n)*.\n",
    "\n",
    "### Consistency with Theoretical Time Complexities:\n",
    "- The empirical results demonstrate that Python’s `set` operations are indeed faster, consistent with the average-case *O(1)* time complexity.\n",
    "- The `TreeSet` `contains` method’s performance did not increase significantly with larger sizes, indicating a logarithmic growth expected from a balanced tree. However, even with the best-case *O(log n)* complexity, it remains slower than the constant time *O(1)* complexity of Python’s `set`.\n",
    "\n",
    "### Expectations:\n",
    "- Generally, Python's built-in `set` is expected to be faster due to its highly optimized hash table implementation, compared to a binary tree-based `TreeSet`.\n",
    "- The empirical results align with this expectation, showing a significant performance difference, particularly for large list sizes.\n",
    "- The results were somewhat anticipated, though one might expect a more noticeable degradation in `TreeSet` performance if the tree became significantly unbalanced. The random data used may not have created the worst-case scenario, and Python’s overhead for recursion and object handling could also impact the measured times.\n",
    "\n",
    "### Conclusion:\n",
    "Overall, while `TreeSet` performs reasonably well, Python's built-in `set` is superior in terms of speed due to its *O(1)* lookup time, as reflected in the empirical results. It's important to note that these tests measure raw speed and do not account for other factors like memory usage, where `TreeSet` might have advantages in specific scenarios."
   ]
  },
  {
   "cell_type": "code",
   "execution_count": 68,
   "metadata": {},
   "outputs": [
    {
     "name": "stderr",
     "output_type": "stream",
     "text": [
      "usage: jupyter [-h] [--version] [--config-dir] [--data-dir] [--runtime-dir]\n",
      "               [--paths] [--json] [--debug]\n",
      "               [subcommand]\n",
      "\n",
      "Jupyter: Interactive Computing\n",
      "\n",
      "positional arguments:\n",
      "  subcommand     the subcommand to launch\n",
      "\n",
      "options:\n",
      "  -h, --help     show this help message and exit\n",
      "  --version      show the versions of core jupyter packages and exit\n",
      "  --config-dir   show Jupyter config dir\n",
      "  --data-dir     show Jupyter data dir\n",
      "  --runtime-dir  show Jupyter runtime dir\n",
      "  --paths        show all Jupyter paths. Add --json for machine-readable\n",
      "                 format.\n",
      "  --json         output paths as machine-readable json\n",
      "  --debug        output debug information about paths\n",
      "\n",
      "Available subcommands: kernel kernelspec migrate run troubleshoot\n",
      "\n",
      "Jupyter command `jupyter-nbconvert` not found.\n"
     ]
    }
   ],
   "source": [
    "!jupyter nbconvert _04-py-recursive-data-structures-practice.ipynb --to html --template classic --output 04-py-recursive-data-structures-practice.html"
   ]
  },
  {
   "cell_type": "markdown",
   "metadata": {},
   "source": [
    "# <center>Have fun!<a class=\"tocSkip\"></center>"
   ]
  }
 ],
 "metadata": {
  "anaconda-cloud": {},
  "kernelspec": {
   "display_name": "Python 3 (ipykernel)",
   "language": "python",
   "name": "python3"
  },
  "language_info": {
   "codemirror_mode": {
    "name": "ipython",
    "version": 3
   },
   "file_extension": ".py",
   "mimetype": "text/x-python",
   "name": "python",
   "nbconvert_exporter": "python",
   "pygments_lexer": "ipython3",
   "version": "3.11.9"
  },
  "toc": {
   "base_numbering": 1,
   "nav_menu": {},
   "number_sections": true,
   "sideBar": false,
   "skip_h1_title": false,
   "title_cell": "Table of Contents",
   "title_sidebar": "Contents",
   "toc_cell": false,
   "toc_position": {},
   "toc_section_display": true,
   "toc_window_display": false
  },
  "varInspector": {
   "cols": {
    "lenName": 16,
    "lenType": 16,
    "lenVar": 40
   },
   "kernels_config": {
    "python": {
     "delete_cmd_postfix": "",
     "delete_cmd_prefix": "del ",
     "library": "var_list.py",
     "varRefreshCmd": "print(var_dic_list())"
    },
    "r": {
     "delete_cmd_postfix": ") ",
     "delete_cmd_prefix": "rm(",
     "library": "var_list.r",
     "varRefreshCmd": "cat(var_dic_list()) "
    }
   },
   "types_to_exclude": [
    "module",
    "function",
    "builtin_function_or_method",
    "instance",
    "_Feature"
   ],
   "window_display": false
  }
 },
 "nbformat": 4,
 "nbformat_minor": 4
}
